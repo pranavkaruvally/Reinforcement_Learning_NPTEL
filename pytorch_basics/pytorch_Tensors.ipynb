{
  "nbformat": 4,
  "nbformat_minor": 0,
  "metadata": {
    "colab": {
      "provenance": [],
      "authorship_tag": "ABX9TyP8eCpUHeanD4TVbKCBuX1x",
      "include_colab_link": true
    },
    "kernelspec": {
      "name": "python3",
      "display_name": "Python 3"
    },
    "language_info": {
      "name": "python"
    },
    "accelerator": "GPU",
    "gpuClass": "standard"
  },
  "cells": [
    {
      "cell_type": "markdown",
      "metadata": {
        "id": "view-in-github",
        "colab_type": "text"
      },
      "source": [
        "<a href=\"https://colab.research.google.com/github/theunixdisaster/Reinforcement_Learning_NPTEL/blob/main/pytorch_Tensors.ipynb\" target=\"_parent\"><img src=\"https://colab.research.google.com/assets/colab-badge.svg\" alt=\"Open In Colab\"/></a>"
      ]
    },
    {
      "cell_type": "code",
      "execution_count": 9,
      "metadata": {
        "colab": {
          "base_uri": "https://localhost:8080/"
        },
        "id": "N-Di9XyhBO_-",
        "outputId": "12ab7b23-9f78-4e1e-e3c6-293db08d16ec"
      },
      "outputs": [
        {
          "output_type": "execute_result",
          "data": {
            "text/plain": [
              "tensor([[0.9610, 0.5615, 0.5679],\n",
              "        [0.5615, 0.4400, 0.6550],\n",
              "        [0.5679, 0.6550, 1.2694]], device='cuda:0')"
            ]
          },
          "metadata": {},
          "execution_count": 9
        }
      ],
      "source": [
        "import torch\n",
        "import numpy as np\n",
        "\n",
        "tensor = torch.rand(3, 3)\n",
        "ones = torch.ones(3, 3)\n",
        "\n",
        "if torch.cuda.is_available():\n",
        "  tensor = tensor.to(\"cuda\")\n",
        "  ones = ones.to(\"cuda\")\n",
        "\n",
        "tensor @ tensor.T"
      ]
    },
    {
      "cell_type": "code",
      "source": [
        "torch.matmul(tensor, tensor.T, out=ones)"
      ],
      "metadata": {
        "colab": {
          "base_uri": "https://localhost:8080/"
        },
        "id": "0sXmn8hyGQyk",
        "outputId": "57a9af3c-6c5c-4301-ff36-9a4a3708cdd1"
      },
      "execution_count": 11,
      "outputs": [
        {
          "output_type": "execute_result",
          "data": {
            "text/plain": [
              "tensor([[0.9610, 0.5615, 0.5679],\n",
              "        [0.5615, 0.4400, 0.6550],\n",
              "        [0.5679, 0.6550, 1.2694]], device='cuda:0')"
            ]
          },
          "metadata": {},
          "execution_count": 11
        }
      ]
    },
    {
      "cell_type": "code",
      "source": [
        "ones"
      ],
      "metadata": {
        "colab": {
          "base_uri": "https://localhost:8080/"
        },
        "id": "Ol0JDAphHdRC",
        "outputId": "1bf0f1e4-5085-4cbf-ad39-55d36b38be8f"
      },
      "execution_count": 12,
      "outputs": [
        {
          "output_type": "execute_result",
          "data": {
            "text/plain": [
              "tensor([[0.9610, 0.5615, 0.5679],\n",
              "        [0.5615, 0.4400, 0.6550],\n",
              "        [0.5679, 0.6550, 1.2694]], device='cuda:0')"
            ]
          },
          "metadata": {},
          "execution_count": 12
        }
      ]
    },
    {
      "cell_type": "markdown",
      "source": [
        "This means that the out parameter of matmul stores the output tensor the tensor passed on to it"
      ],
      "metadata": {
        "id": "KikRyAmtHkH2"
      }
    },
    {
      "cell_type": "code",
      "source": [],
      "metadata": {
        "id": "AV6LUiTUHtj9"
      },
      "execution_count": null,
      "outputs": []
    }
  ]
}